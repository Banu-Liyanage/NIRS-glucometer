{
 "cells": [
  {
   "cell_type": "code",
   "execution_count": 1,
   "id": "e06e0df4",
   "metadata": {
    "_cell_guid": "b1076dfc-b9ad-4769-8c92-a6c4dae69d19",
    "_uuid": "8f2839f25d086af736a60e9eeb907d3b93b6e0e5",
    "execution": {
     "iopub.execute_input": "2024-06-21T19:00:31.512027Z",
     "iopub.status.busy": "2024-06-21T19:00:31.511668Z",
     "iopub.status.idle": "2024-06-21T19:00:32.304463Z",
     "shell.execute_reply": "2024-06-21T19:00:32.303424Z"
    },
    "papermill": {
     "duration": 0.799961,
     "end_time": "2024-06-21T19:00:32.307034",
     "exception": false,
     "start_time": "2024-06-21T19:00:31.507073",
     "status": "completed"
    },
    "tags": []
   },
   "outputs": [
    {
     "name": "stdout",
     "output_type": "stream",
     "text": [
      "/kaggle/input/nir-dataset-new/Data Collection for NIR glucometer - Sheet1.csv\n"
     ]
    }
   ],
   "source": [
    "# This Python 3 environment comes with many helpful analytics libraries installed\n",
    "# It is defined by the kaggle/python Docker image: https://github.com/kaggle/docker-python\n",
    "# For example, here's several helpful packages to load\n",
    "\n",
    "import numpy as np # linear algebra\n",
    "import pandas as pd # data processing, CSV file I/O (e.g. pd.read_csv)\n",
    "\n",
    "# Input data files are available in the read-only \"../input/\" directory\n",
    "# For example, running this (by clicking run or pressing Shift+Enter) will list all files under the input directory\n",
    "\n",
    "import os\n",
    "for dirname, _, filenames in os.walk('/kaggle/input'):\n",
    "    for filename in filenames:\n",
    "        print(os.path.join(dirname, filename))\n",
    "\n",
    "# You can write up to 20GB to the current directory (/kaggle/working/) that gets preserved as output when you create a version using \"Save & Run All\" \n",
    "# You can also write temporary files to /kaggle/temp/, but they won't be saved outside of the current session"
   ]
  },
  {
   "cell_type": "code",
   "execution_count": 2,
   "id": "c4c23e7b",
   "metadata": {
    "execution": {
     "iopub.execute_input": "2024-06-21T19:00:32.314492Z",
     "iopub.status.busy": "2024-06-21T19:00:32.314040Z",
     "iopub.status.idle": "2024-06-21T19:00:33.576927Z",
     "shell.execute_reply": "2024-06-21T19:00:33.576093Z"
    },
    "papermill": {
     "duration": 1.268996,
     "end_time": "2024-06-21T19:00:33.579218",
     "exception": false,
     "start_time": "2024-06-21T19:00:32.310222",
     "status": "completed"
    },
    "tags": []
   },
   "outputs": [],
   "source": [
    "# import the needed libraries\n",
    "import matplotlib.pyplot as plt \n",
    "from sklearn.model_selection import train_test_split \n",
    "from sklearn.linear_model import LinearRegression "
   ]
  },
  {
   "cell_type": "code",
   "execution_count": 3,
   "id": "6dc8d7d2",
   "metadata": {
    "execution": {
     "iopub.execute_input": "2024-06-21T19:00:33.586010Z",
     "iopub.status.busy": "2024-06-21T19:00:33.585680Z",
     "iopub.status.idle": "2024-06-21T19:00:33.616587Z",
     "shell.execute_reply": "2024-06-21T19:00:33.615632Z"
    },
    "papermill": {
     "duration": 0.036478,
     "end_time": "2024-06-21T19:00:33.618565",
     "exception": false,
     "start_time": "2024-06-21T19:00:33.582087",
     "status": "completed"
    },
    "tags": []
   },
   "outputs": [
    {
     "data": {
      "text/html": [
       "<div>\n",
       "<style scoped>\n",
       "    .dataframe tbody tr th:only-of-type {\n",
       "        vertical-align: middle;\n",
       "    }\n",
       "\n",
       "    .dataframe tbody tr th {\n",
       "        vertical-align: top;\n",
       "    }\n",
       "\n",
       "    .dataframe thead th {\n",
       "        text-align: right;\n",
       "    }\n",
       "</style>\n",
       "<table border=\"1\" class=\"dataframe\">\n",
       "  <thead>\n",
       "    <tr style=\"text-align: right;\">\n",
       "      <th></th>\n",
       "      <th>Name</th>\n",
       "      <th>Voltage by NIR Glucometer</th>\n",
       "      <th>Reading by Dr Trust Glucometer</th>\n",
       "    </tr>\n",
       "  </thead>\n",
       "  <tbody>\n",
       "    <tr>\n",
       "      <th>0</th>\n",
       "      <td>Aditya Pradhan</td>\n",
       "      <td>0.81</td>\n",
       "      <td>86</td>\n",
       "    </tr>\n",
       "    <tr>\n",
       "      <th>1</th>\n",
       "      <td>Anjali Jena</td>\n",
       "      <td>1.01</td>\n",
       "      <td>89</td>\n",
       "    </tr>\n",
       "    <tr>\n",
       "      <th>2</th>\n",
       "      <td>Krishna Singh</td>\n",
       "      <td>3.24</td>\n",
       "      <td>134</td>\n",
       "    </tr>\n",
       "    <tr>\n",
       "      <th>3</th>\n",
       "      <td>Nabakrushna Singh</td>\n",
       "      <td>3.61</td>\n",
       "      <td>143</td>\n",
       "    </tr>\n",
       "    <tr>\n",
       "      <th>4</th>\n",
       "      <td>Pratima Singh</td>\n",
       "      <td>2.87</td>\n",
       "      <td>119</td>\n",
       "    </tr>\n",
       "  </tbody>\n",
       "</table>\n",
       "</div>"
      ],
      "text/plain": [
       "                Name  Voltage by NIR Glucometer  \\\n",
       "0     Aditya Pradhan                       0.81   \n",
       "1        Anjali Jena                       1.01   \n",
       "2      Krishna Singh                       3.24   \n",
       "3  Nabakrushna Singh                       3.61   \n",
       "4      Pratima Singh                       2.87   \n",
       "\n",
       "   Reading by Dr Trust Glucometer  \n",
       "0                              86  \n",
       "1                              89  \n",
       "2                             134  \n",
       "3                             143  \n",
       "4                             119  "
      ]
     },
     "execution_count": 3,
     "metadata": {},
     "output_type": "execute_result"
    }
   ],
   "source": [
    "# Load the data\n",
    "nirs_data = pd.read_csv(\"/kaggle/input/nir-dataset-new/Data Collection for NIR glucometer - Sheet1.csv\")\n",
    "nirs_data.head()"
   ]
  },
  {
   "cell_type": "code",
   "execution_count": 4,
   "id": "b395aa33",
   "metadata": {
    "execution": {
     "iopub.execute_input": "2024-06-21T19:00:33.625739Z",
     "iopub.status.busy": "2024-06-21T19:00:33.625431Z",
     "iopub.status.idle": "2024-06-21T19:00:33.919564Z",
     "shell.execute_reply": "2024-06-21T19:00:33.918579Z"
    },
    "papermill": {
     "duration": 0.299974,
     "end_time": "2024-06-21T19:00:33.921542",
     "exception": false,
     "start_time": "2024-06-21T19:00:33.621568",
     "status": "completed"
    },
    "tags": []
   },
   "outputs": [
    {
     "data": {
      "image/png": "[encoded data removed]",
      "text/plain": [
       "<Figure size 640x480 with 1 Axes>"
      ]
     },
     "metadata": {},
     "output_type": "display_data"
    }
   ],
   "source": [
    "# select the variables X,y\n",
    "X = nirs_data[\"Voltage by NIR Glucometer\"]\n",
    "y = nirs_data[\"Reading by Dr Trust Glucometer\"]\n",
    "# plot the scatter of data set\n",
    "plt.scatter(X,y,c=\"blue\")\n",
    "plt.show()"
   ]
  },
  {
   "cell_type": "code",
   "execution_count": 5,
   "id": "08f03b80",
   "metadata": {
    "execution": {
     "iopub.execute_input": "2024-06-21T19:00:33.929694Z",
     "iopub.status.busy": "2024-06-21T19:00:33.929390Z",
     "iopub.status.idle": "2024-06-21T19:00:33.951417Z",
     "shell.execute_reply": "2024-06-21T19:00:33.950544Z"
    },
    "papermill": {
     "duration": 0.02821,
     "end_time": "2024-06-21T19:00:33.953378",
     "exception": false,
     "start_time": "2024-06-21T19:00:33.925168",
     "status": "completed"
    },
    "tags": []
   },
   "outputs": [
    {
     "name": "stdout",
     "output_type": "stream",
     "text": [
      "score: 0.9635885373367034\n",
      "Weight:  [[18.89280977]] \n",
      "bias:  [67.49456981]\n"
     ]
    }
   ],
   "source": [
    "# reshaping to a 2-D vector\n",
    "Xv = X.to_numpy().reshape(-1, 1)\n",
    "yv = y.to_numpy().reshape(-1, 1)\n",
    "\n",
    "# splitting into train & test data sets \n",
    "X_train, X_test, y_train, y_test = train_test_split(Xv, yv, test_size = 0.25, random_state = 1) \n",
    "\n",
    "lr_model = LinearRegression() \n",
    "\n",
    "# training the model\n",
    "lr_model.fit(X_train, y_train) \n",
    "\n",
    "score = lr_model.score(X_test, y_test)\n",
    "print(f\"score: {score}\")\n",
    "\n",
    "weight = lr_model.coef_\n",
    "bias = lr_model.intercept_\n",
    "print(\"Weight: \",weight,\"\\nbias: \",bias)"
   ]
  },
  {
   "cell_type": "code",
   "execution_count": 6,
   "id": "0b71047c",
   "metadata": {
    "execution": {
     "iopub.execute_input": "2024-06-21T19:00:33.961204Z",
     "iopub.status.busy": "2024-06-21T19:00:33.960572Z",
     "iopub.status.idle": "2024-06-21T19:00:33.965302Z",
     "shell.execute_reply": "2024-06-21T19:00:33.964301Z"
    },
    "papermill": {
     "duration": 0.010929,
     "end_time": "2024-06-21T19:00:33.967510",
     "exception": false,
     "start_time": "2024-06-21T19:00:33.956581",
     "status": "completed"
    },
    "tags": []
   },
   "outputs": [],
   "source": [
    "# predicting new values\n",
    "y_pre = lr_model.predict(Xv)"
   ]
  },
  {
   "cell_type": "code",
   "execution_count": 7,
   "id": "8dc11ae2",
   "metadata": {
    "execution": {
     "iopub.execute_input": "2024-06-21T19:00:33.975551Z",
     "iopub.status.busy": "2024-06-21T19:00:33.974991Z",
     "iopub.status.idle": "2024-06-21T19:00:34.201582Z",
     "shell.execute_reply": "2024-06-21T19:00:34.200583Z"
    },
    "papermill": {
     "duration": 0.233008,
     "end_time": "2024-06-21T19:00:34.203850",
     "exception": false,
     "start_time": "2024-06-21T19:00:33.970842",
     "status": "completed"
    },
    "tags": []
   },
   "outputs": [
    {
     "data": {
      "image/png": "[encoded data removed]",
      "text/plain": [
       "<Figure size 640x480 with 1 Axes>"
      ]
     },
     "metadata": {},
     "output_type": "display_data"
    }
   ],
   "source": [
    "# plot real vs predictions\n",
    "plt.scatter(y,y_pre, c=\"blue\")\n",
    "plt.show()"
   ]
  },
  {
   "cell_type": "code",
   "execution_count": null,
   "id": "467afc41",
   "metadata": {
    "papermill": {
     "duration": 0.003257,
     "end_time": "2024-06-21T19:00:34.211066",
     "exception": false,
     "start_time": "2024-06-21T19:00:34.207809",
     "status": "completed"
    },
    "tags": []
   },
   "outputs": [],
   "source": []
  }
 ],
 "metadata": {
  "kaggle": {
   "accelerator": "none",
   "dataSources": [
    {
     "datasetId": 3217087,
     "sourceId": 5591745,
     "sourceType": "datasetVersion"
    }
   ],
   "dockerImageVersionId": 30732,
   "isGpuEnabled": false,
   "isInternetEnabled": false,
   "language": "python",
   "sourceType": "notebook"
  },
  "kernelspec": {
   "display_name": "Python 3",
   "language": "python",
   "name": "python3"
  },
  "language_info": {
   "codemirror_mode": {
    "name": "ipython",
    "version": 3
   },
   "file_extension": ".py",
   "mimetype": "text/x-python",
   "name": "python",
   "nbconvert_exporter": "python",
   "pygments_lexer": "ipython3",
   "version": "3.10.13"
  },
  "papermill": {
   "default_parameters": {},
   "duration": 5.828365,
   "end_time": "2024-06-21T19:00:34.734470",
   "environment_variables": {},
   "exception": null,
   "input_path": "__notebook__.ipynb",
   "output_path": "__notebook__.ipynb",
   "parameters": {},
   "start_time": "2024-06-21T19:00:28.906105",
   "version": "2.5.0"
  }
 },
 "nbformat": 4,
 "nbformat_minor": 5
}
